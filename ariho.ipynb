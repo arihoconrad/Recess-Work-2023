{
 "cells": [
  {
   "cell_type": "code",
   "execution_count": 1,
   "metadata": {},
   "outputs": [],
   "source": [
    "import pandas as pd "
   ]
  },
  {
   "cell_type": "code",
   "execution_count": 4,
   "metadata": {},
   "outputs": [],
   "source": [
    "data = pd.read_csv(\"C:\\\\Users\\\\DELL\\\\Desktop\\\\DATA SCIENCE\\\\bse_dataset.csv\")\n"
   ]
  },
  {
   "cell_type": "code",
   "execution_count": 5,
   "metadata": {},
   "outputs": [
    {
     "name": "stdout",
     "output_type": "stream",
     "text": [
      "<bound method NDFrame.head of               Timestamp What is your gender?  Age What is your emotion?  \\\n",
      "0   05/07/2023 09:38:39                 Male   21               Content   \n",
      "1   05/07/2023 09:38:57        Marabou stock   45                 Weird   \n",
      "2   05/07/2023 09:39:09              Female    20                 Happy   \n",
      "3   05/07/2023 09:39:12                 Male   21                 Happy   \n",
      "4   05/07/2023 09:39:14               Female   21                 Happy   \n",
      "..                  ...                  ...  ...                   ...   \n",
      "92  05/07/2023 09:53:56              Female    68                   Sad   \n",
      "93  05/07/2023 09:54:13                 Male   29               Hopeful   \n",
      "94  05/07/2023 09:54:28                 Male   22      Fighting poverty   \n",
      "95  05/07/2023 09:54:36                 Male   23          good and bad   \n",
      "96  05/07/2023 09:54:52                 male   30                hunger   \n",
      "\n",
      "   Year of birth What is your CGPA? Do you have a Girl Friend or BOY Friend  \\\n",
      "0           2002               4.22                                      No   \n",
      "1           2100                8.9                                     Yes   \n",
      "2           2002               3.98                                      No   \n",
      "3           2003               4.37                                      No   \n",
      "4           2002               3.63                                      No   \n",
      "..           ...                ...                                     ...   \n",
      "92          1953                4.8                                      No   \n",
      "93          1994   I don't know yet              Sure, multiple girlfriends   \n",
      "94          2001               3.12                Girl friends are thieves   \n",
      "95          2000                3.5                    Namiiro Zahara Bidin   \n",
      "96          2023                  5                                     ARI   \n",
      "\n",
      "   Do you have Depression? Do you have Anxiety? Do you have Panic attack?  \\\n",
      "0                       No                  Yes                       Yes   \n",
      "1                      Yes                  Yes                       Yes   \n",
      "2                       No                  Yes                       Yes   \n",
      "3                       No                   No                        No   \n",
      "4                       No                   No                        No   \n",
      "..                     ...                  ...                       ...   \n",
      "92                     Yes                  Yes                       Yes   \n",
      "93                      No                   No                        No   \n",
      "94                     Yes                  Yes                        No   \n",
      "95                      No                   No                        No   \n",
      "96                      no                 yeah                       nah   \n",
      "\n",
      "   Did you have seek any specialist for a treatment?   \n",
      "0                                                 Yes  \n",
      "1                                                  No  \n",
      "2                                                  No  \n",
      "3                                                Nope  \n",
      "4                                                  No  \n",
      "..                                                ...  \n",
      "92                                                Yes  \n",
      "93                                                 No  \n",
      "94                                                 No  \n",
      "95                                                 No  \n",
      "96                                               yeah  \n",
      "\n",
      "[97 rows x 11 columns]>\n"
     ]
    },
    {
     "ename": "",
     "evalue": "",
     "output_type": "error",
     "traceback": [
      "\u001b[1;31mThe Kernel crashed while executing code in the the current cell or a previous cell. Please review the code in the cell(s) to identify a possible cause of the failure. Click <a href='https://aka.ms/vscodeJupyterKernelCrash'>here</a> for more info. View Jupyter <a href='command:jupyter.viewOutput'>log</a> for further details."
     ]
    }
   ],
   "source": [
    "print(data.head)"
   ]
  }
 ],
 "metadata": {
  "kernelspec": {
   "display_name": "base",
   "language": "python",
   "name": "python3"
  },
  "language_info": {
   "codemirror_mode": {
    "name": "ipython",
    "version": 3
   },
   "file_extension": ".py",
   "mimetype": "text/x-python",
   "name": "python",
   "nbconvert_exporter": "python",
   "pygments_lexer": "ipython3",
   "version": "3.9.13"
  },
  "orig_nbformat": 4
 },
 "nbformat": 4,
 "nbformat_minor": 2
}
