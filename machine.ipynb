{
 "cells": [
  {
   "cell_type": "code",
   "execution_count": null,
   "metadata": {},
   "outputs": [],
   "source": [
    "# Introduction to Machine Learning\n",
    "# Algorithms, models that help the computer to learn and predict\n",
    "# Applications of Machine Learning\n",
    "\"\"\"\n",
    "1.  Image processing\n",
    "2. Speech recognition\n",
    "3. Fraud detection\n",
    "\n",
    "Approaches to Machine Learning \n",
    "1. Supervised Learning: dataset is labelled, predict, Linear regression,\n",
    "decision tree, suuport vector machine, neural networks(Supervised Learning Algorithms)\n",
    "k-means clustering, hierachical clustering, PCA(Principal Component Analysis)\n",
    "3. Reinforcement learning:\n",
    "\n",
    "# Problem Formulation\n",
    "Define the problem classification Task, Regression Analysis, Clustering, anomaly detection recommendations.\n",
    "2 Gather the data\n",
    "3 split the data\n",
    "20, 80\n",
    "\n",
    "Data Types\n",
    "3 categories of data! \n",
    "1. Numerical data can be discrete(Integers) or continuous(infinite values)\n",
    "2. Categorical can be measured against each other.\n",
    "3. Ordinal\n",
    "\n",
    "\"\"\""
   ]
  },
  {
   "cell_type": "code",
   "execution_count": null,
   "metadata": {},
   "outputs": [],
   "source": [
    "# Check if you have sckit-learn installed\n",
    "#pip install -U scikit learm"
   ]
  },
  {
   "cell_type": "code",
   "execution_count": null,
   "metadata": {},
   "outputs": [],
   "source": [
    "import numpy as np #Linear algebra\n",
    "import pandas as pd # data processing, csv file(pd.read_csv)\n",
    "import matplotlib.pyplot as plt # plotting/ data visualization\n",
    "import seaborn as sns # statistical data visualization\n",
    "\n",
    "#ML for regression\n",
    "from sklearn.linear_model import LogisticRegression\n",
    "from sklearn.model_selection import train_test_split\n",
    "\n",
    "# Control display ! this is optionall\n",
    "pd.option.display.max_collumns=50\n",
    "sns.set(style=\"darkgrid\",rc={'axes.facecolor':  \"#})\n",
    "\n",
    "# Ignore warnings\n",
    "import warnings \n",
    "warnings.filterwarnings(\"ignore\")"
   ]
  }
 ],
 "metadata": {
  "language_info": {
   "name": "python"
  },
  "orig_nbformat": 4
 },
 "nbformat": 4,
 "nbformat_minor": 2
}
